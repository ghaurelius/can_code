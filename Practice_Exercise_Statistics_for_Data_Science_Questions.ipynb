{
 "cells": [
  {
   "cell_type": "markdown",
   "metadata": {
    "id": "XeV1U7GkVNZY"
   },
   "source": [
    "## **Importing the necessary libraries**"
   ]
  },
  {
   "cell_type": "code",
   "execution_count": null,
   "metadata": {
    "id": "219CEYUFVNZn"
   },
   "outputs": [],
   "source": [
    "# Library used for data manipulation and analysis\n",
    "import pandas as pd\n",
    "\n",
    "# Library used for working with arrays\n",
    "import numpy as np  \n",
    "\n",
    "# Libraries for visualization\n",
    "import matplotlib.pyplot as plt  \n",
    "%matplotlib inline\n",
    "\n",
    "import seaborn as sns  \n",
    "\n",
    "# This library contains a large number of probability distributions as well as a growing library of statistical functions\n",
    "import scipy.stats as stats"
   ]
  },
  {
   "cell_type": "markdown",
   "metadata": {
    "id": "zwbR4fdpVNZp"
   },
   "source": [
    "## **Binomial Distribution**"
   ]
  },
  {
   "cell_type": "markdown",
   "metadata": {
    "id": "iLvUFh_6VNZp"
   },
   "source": [
    "### **Q1. A LED bulb manufacturing company regularly conducts quality checks at specified periods on the products it manufactures. Historically, the failure rate for LED light bulbs, that the company manufactures is 5%. Suppose a random sample of 10 LED light bulbs is selected. Find the probability distribution for the defective bulbs and answer the following questions.**"
   ]
  },
  {
   "cell_type": "markdown",
   "metadata": {
    "id": "U8C34C7HVNZr"
   },
   "source": [
    "**a) What is the probability that none of the LED bulbs are defective?**"
   ]
  },
  {
   "cell_type": "code",
   "execution_count": null,
   "metadata": {
    "colab": {
     "base_uri": "https://localhost:8080/"
    },
    "id": "DYBa2d2kVNZs",
    "outputId": "d96b3b97-cf0c-413f-d99b-f169f4992202"
   },
   "outputs": [],
   "source": []
  },
  {
   "cell_type": "markdown",
   "metadata": {
    "id": "siKk2kFfVNZs"
   },
   "source": [
    "**b) What is the probability that exactly one LED bulb is defective?**"
   ]
  },
  {
   "cell_type": "code",
   "execution_count": null,
   "metadata": {
    "colab": {
     "base_uri": "https://localhost:8080/"
    },
    "id": "JvlpPRafVNZt",
    "outputId": "82865149-c0c5-4ad7-bf33-243dc8b09041"
   },
   "outputs": [],
   "source": []
  },
  {
   "cell_type": "markdown",
   "metadata": {
    "id": "sTKTp_VbVNZt"
   },
   "source": [
    "**c) What is the probability that two or fewer LED bulbs are defective?**"
   ]
  },
  {
   "cell_type": "markdown",
   "metadata": {
    "id": "_ETr7cSsVNZu"
   },
   "source": [
    "**Hint:** We need to calculate the cumulative probability of two or fewer LED bulbs being defective."
   ]
  },
  {
   "cell_type": "code",
   "execution_count": null,
   "metadata": {
    "id": "4j7cFmgqVNZu"
   },
   "outputs": [],
   "source": []
  },
  {
   "cell_type": "markdown",
   "metadata": {
    "id": "6D3d7vgNVNZv"
   },
   "source": [
    "**d) What is the probability that three or more LED bulbs are defective?**"
   ]
  },
  {
   "cell_type": "markdown",
   "metadata": {
    "id": "-EnDIeiTVNZv"
   },
   "source": [
    "**Hint:** We need to subtract the cumulative probability of up to 2 defective LED bulbs from 1."
   ]
  },
  {
   "cell_type": "code",
   "execution_count": null,
   "metadata": {
    "colab": {
     "base_uri": "https://localhost:8080/"
    },
    "id": "mvuUJchzVNZw",
    "outputId": "6eb39eb3-0aa2-4af7-a8ad-ab4719f925d9"
   },
   "outputs": [],
   "source": []
  },
  {
   "cell_type": "markdown",
   "metadata": {
    "id": "g7pg-lWiVNZx"
   },
   "source": [
    "### **Q2. During an NBA game, a basketball player has two foul shots (free throw) and the conversion rate of foul shots is 93%. Find the following probabilities.**"
   ]
  },
  {
   "cell_type": "markdown",
   "metadata": {
    "id": "I1yejxesVNZx"
   },
   "source": [
    "**a) What is the probability that the player will convert both the shots?**"
   ]
  },
  {
   "cell_type": "code",
   "execution_count": null,
   "metadata": {
    "colab": {
     "base_uri": "https://localhost:8080/"
    },
    "id": "SmwMFMOwVNZx",
    "outputId": "3ef552e8-2b2a-4bb7-da18-e9c00bbcbfc5"
   },
   "outputs": [],
   "source": []
  },
  {
   "cell_type": "markdown",
   "metadata": {
    "id": "0R1FriOVVNZy"
   },
   "source": [
    "**b) What is the probability that the player will convert at least one shot?**"
   ]
  },
  {
   "cell_type": "code",
   "execution_count": null,
   "metadata": {
    "colab": {
     "base_uri": "https://localhost:8080/"
    },
    "id": "LHvHcZIZVNZy",
    "outputId": "a07246a6-7cfa-4192-9814-2cf9f5793de3"
   },
   "outputs": [],
   "source": []
  },
  {
   "cell_type": "markdown",
   "metadata": {
    "id": "jeGWrHJhabri"
   },
   "source": [
    "### **Q3. Over a long period in a large multinomial corporation, 10% of all sales trainees are rated as outstanding, 75% are rated as excellent, 10% are rated as satisfactory, and 5% are rated as unsatisfactory. Find the following probabilities for a sample of 10 trainees selected at random.**"
   ]
  },
  {
   "cell_type": "markdown",
   "metadata": {
    "id": "f0-NPUBiVNaG"
   },
   "source": [
    "**a) Two are rated as outstanding**"
   ]
  },
  {
   "cell_type": "code",
   "execution_count": null,
   "metadata": {
    "id": "nJhIbOHmabrl",
    "outputId": "32c1e229-fe87-4702-f764-d2133622b0a1"
   },
   "outputs": [],
   "source": []
  },
  {
   "cell_type": "markdown",
   "metadata": {
    "id": "RZCEMFSrVNaG"
   },
   "source": [
    "**b) Two or more are rated as outstanding**"
   ]
  },
  {
   "cell_type": "code",
   "execution_count": null,
   "metadata": {
    "id": "KxHPMtooabrw",
    "outputId": "d1905403-3b31-4912-d72f-2b45519ba155"
   },
   "outputs": [],
   "source": []
  },
  {
   "cell_type": "markdown",
   "metadata": {
    "id": "u5_21Ab8VNaH"
   },
   "source": [
    "**c) Eight of the ten are rated either outstanding or excellent**"
   ]
  },
  {
   "cell_type": "code",
   "execution_count": null,
   "metadata": {
    "id": "hUf08sVQabr3",
    "outputId": "04cac182-33f8-42b0-f9c4-eb5bc342cff5"
   },
   "outputs": [],
   "source": []
  },
  {
   "cell_type": "markdown",
   "metadata": {
    "id": "by_BuepFVNaH"
   },
   "source": [
    "**d) None of the trainees are rated as unsatisfactory**"
   ]
  },
  {
   "cell_type": "code",
   "execution_count": null,
   "metadata": {
    "id": "RHtn4WYzabsA",
    "outputId": "e9aa51f1-1a69-44a0-8895-b05c12f4b2b7"
   },
   "outputs": [],
   "source": []
  },
  {
   "cell_type": "markdown",
   "metadata": {},
   "source": [
    "## **Uniform Distribution**"
   ]
  },
  {
   "cell_type": "markdown",
   "metadata": {
    "id": "1-lP_U28aUuP"
   },
   "source": [
    "### **Q4. A university records the time taken by students to solve the statistics assignment in 'assignment.csv’. Plot the probability distribution this data follows and answer the following questions.**"
   ]
  },
  {
   "cell_type": "markdown",
   "metadata": {
    "id": "l46Ul-hMd7DD"
   },
   "source": [
    "### **Loading the dataset**"
   ]
  },
  {
   "cell_type": "code",
   "execution_count": null,
   "metadata": {
    "colab": {
     "base_uri": "https://localhost:8080/",
     "height": 204
    },
    "id": "C1zqTRCLd6BQ",
    "outputId": "266bf3e5-3adf-4b1c-a5e4-3d1311bc6750"
   },
   "outputs": [],
   "source": [
    "assignment = pd.read_csv('assignment.csv')\n",
    "\n",
    "assignment.head()"
   ]
  },
  {
   "cell_type": "markdown",
   "metadata": {
    "id": "riMH9942kyzJ"
   },
   "source": [
    "**a) Find the probability that a randomly selected student requires at most 2.5 hours to complete the assignment.**"
   ]
  },
  {
   "cell_type": "markdown",
   "metadata": {},
   "source": [
    "**CDF** of a random variable (X) is the probability that X will take the value less than or equal to x. Mathematically, it can be represented as:\n",
    "\n",
    ">$F_X(x) = P(X\\leq x)$\n",
    "\n",
    "In our case, the random variable (X) is the number of hours.\n",
    "\n",
    "$ P(X\\leq 2.5)$"
   ]
  },
  {
   "cell_type": "code",
   "execution_count": null,
   "metadata": {
    "colab": {
     "base_uri": "https://localhost:8080/"
    },
    "id": "j6Q_wOlPlh5g",
    "outputId": "82c79ea7-ca72-4ea4-c7ad-489a2dd91760"
   },
   "outputs": [],
   "source": []
  },
  {
   "cell_type": "markdown",
   "metadata": {
    "id": "C3TVqrPQlt1h"
   },
   "source": [
    "**b) Find the probability that a randomly selected student requires at least 3 hours to complete the quiz.**\n",
    "\n",
    "$ P(X >= 3)$"
   ]
  },
  {
   "cell_type": "code",
   "execution_count": null,
   "metadata": {
    "colab": {
     "base_uri": "https://localhost:8080/"
    },
    "id": "qy9TT_38l108",
    "outputId": "20724781-bd1f-48e3-fdcb-26eb1fc7597f"
   },
   "outputs": [],
   "source": []
  },
  {
   "cell_type": "markdown",
   "metadata": {
    "id": "ln66mUUsmad-"
   },
   "source": [
    "**c) Find the probability that a randomly selected student requires 1.5 to 3.5 hours to complete the quiz.**\n",
    "\n",
    "$ P(1.5 <= X <= 3.5)$"
   ]
  },
  {
   "cell_type": "code",
   "execution_count": null,
   "metadata": {
    "colab": {
     "base_uri": "https://localhost:8080/"
    },
    "id": "oVS-Q3f3mZlj",
    "outputId": "283b341b-1853-49d8-f3b3-63ac852902ab"
   },
   "outputs": [],
   "source": []
  },
  {
   "cell_type": "markdown",
   "metadata": {
    "id": "xh7vsKOHVNZ8"
   },
   "source": [
    "## **Normal Distribution**"
   ]
  },
  {
   "cell_type": "markdown",
   "metadata": {
    "id": "yRiWnS4VabsT"
   },
   "source": [
    "### **Q5. According to the Telecommunication Industry, the average monthly cell phone bill is Rs. 850, with a standard deviation of Rs. 150. Assuming that the monthly bill follows a normal distribution, answer the following questions.**"
   ]
  },
  {
   "cell_type": "markdown",
   "metadata": {
    "id": "MJ7wKYwvVNZ_"
   },
   "source": [
    "**a) What is the probability that a randomly selected cell phone bill is more than Rs. 1200?**"
   ]
  },
  {
   "cell_type": "code",
   "execution_count": null,
   "metadata": {
    "colab": {
     "base_uri": "https://localhost:8080/"
    },
    "id": "jJ1cXSf0absV",
    "outputId": "78ae5cc4-110d-434f-a021-194964c091fc"
   },
   "outputs": [],
   "source": []
  },
  {
   "cell_type": "markdown",
   "metadata": {
    "id": "1eoJzslRVNZ_"
   },
   "source": [
    "**b) What is the probability that a randomly selected cell phone bill is between Rs. 750 and Rs. 1200?**"
   ]
  },
  {
   "cell_type": "code",
   "execution_count": null,
   "metadata": {
    "colab": {
     "base_uri": "https://localhost:8080/"
    },
    "id": "1uU2mRzbabsh",
    "outputId": "0d94bb46-e479-405e-cd8e-579a8e2709d9"
   },
   "outputs": [],
   "source": []
  },
  {
   "cell_type": "markdown",
   "metadata": {
    "id": "tGxBocT6VNZ_"
   },
   "source": [
    "**c) What is the probability that a randomly selected cell phone bill is no more than Rs. 650?**"
   ]
  },
  {
   "cell_type": "code",
   "execution_count": null,
   "metadata": {
    "colab": {
     "base_uri": "https://localhost:8080/"
    },
    "id": "TqFcIHcUabsp",
    "outputId": "19b42148-5710-4e7d-a6db-efdc471502e8"
   },
   "outputs": [],
   "source": []
  },
  {
   "cell_type": "markdown",
   "metadata": {
    "id": "oFmIG_sqVNaA"
   },
   "source": [
    "**d) What is the amount above which lies the top 15% of cell phone bills?**"
   ]
  },
  {
   "cell_type": "markdown",
   "metadata": {},
   "source": [
    "**Hint:** Let the amount be $M$. \n",
    "\n",
    "$P(X ≥ M) = 0.15$\n",
    "\n",
    "$=> 1 – P(X < M) = 0.15$\n",
    "\n",
    "$=> P(X < M) = 0.85$"
   ]
  },
  {
   "cell_type": "code",
   "execution_count": null,
   "metadata": {
    "colab": {
     "base_uri": "https://localhost:8080/"
    },
    "id": "_r55P6SNabs0",
    "outputId": "2cf77402-788c-435e-fa3a-2e7fc4c4fac8"
   },
   "outputs": [],
   "source": []
  },
  {
   "cell_type": "markdown",
   "metadata": {
    "id": "_lNAMUvvVNaA"
   },
   "source": [
    "**e) What is the amount below which lies the bottom 25% of cell phone bills?**"
   ]
  },
  {
   "cell_type": "code",
   "execution_count": null,
   "metadata": {
    "colab": {
     "base_uri": "https://localhost:8080/"
    },
    "id": "-7OQk_Ftabs-",
    "outputId": "c50bc6e1-8ff7-4fe0-d4c0-b6669b3209f9"
   },
   "outputs": [],
   "source": []
  },
  {
   "cell_type": "markdown",
   "metadata": {
    "id": "QmtfulFDVNaH"
   },
   "source": [
    "### **Q6. The mean filling capacity for a Coke bottle is 500 ml with a standard deviation of 20 ml. Assume that it follows a normal distribution and answer the following questions.**"
   ]
  },
  {
   "cell_type": "markdown",
   "metadata": {
    "id": "ak4RyMGVVNaI"
   },
   "source": [
    "**a) What is the probability that the bottle filled less than 480 ml of Coke?**"
   ]
  },
  {
   "cell_type": "code",
   "execution_count": null,
   "metadata": {},
   "outputs": [],
   "source": []
  },
  {
   "cell_type": "markdown",
   "metadata": {
    "id": "ILDdv_5fVNaI"
   },
   "source": [
    "**b) What is the probability that the bottle filled more than 520 ml of Coke?**"
   ]
  },
  {
   "cell_type": "code",
   "execution_count": null,
   "metadata": {
    "colab": {
     "base_uri": "https://localhost:8080/"
    },
    "id": "u42DGuDPVNaJ",
    "outputId": "4208ece9-6c8d-4be4-d37b-3264766f66b8"
   },
   "outputs": [],
   "source": []
  },
  {
   "cell_type": "markdown",
   "metadata": {
    "id": "GDGLNR7dVNaJ"
   },
   "source": [
    "**c) What is the probability that the bottle filled between 470 ml to 525 ml of Coke?**"
   ]
  },
  {
   "cell_type": "code",
   "execution_count": null,
   "metadata": {
    "colab": {
     "base_uri": "https://localhost:8080/"
    },
    "id": "_uPKpbvtVNaK",
    "outputId": "1ae86422-e645-4183-d9a5-7f1097668e0e"
   },
   "outputs": [],
   "source": []
  },
  {
   "cell_type": "markdown",
   "metadata": {
    "id": "7WFVLPL-VNaM"
   },
   "source": [
    "### Q7: **In 2-liter soft drink bottles, the drink filled is normally distributed, with a mean of 2.0 liters and a standard deviation of 0.05 liter. If bottles contain less than 95% of the listed net content (1.90 liters), the manufacturer may be subject to a penalty by the state office of consumer affairs. Bottles that have a net quantity above 2.1 liters may cause excess spillage upon opening. Answer the following questions.**"
   ]
  },
  {
   "cell_type": "markdown",
   "metadata": {
    "id": "KJh8EodMVNaM"
   },
   "source": [
    "**a) What is the probability that the bottle content is between 1.9 and 2.0 liters?**"
   ]
  },
  {
   "cell_type": "code",
   "execution_count": null,
   "metadata": {
    "colab": {
     "base_uri": "https://localhost:8080/"
    },
    "id": "WfcWl231VNaM",
    "outputId": "5b8e470b-4b08-484f-ec17-892dbe4313ed"
   },
   "outputs": [],
   "source": []
  },
  {
   "cell_type": "markdown",
   "metadata": {
    "id": "hZhrsYtoVNaN"
   },
   "source": [
    "**b) What is the probability that the bottle content is between 1.9 and 2.1 liters?**"
   ]
  },
  {
   "cell_type": "code",
   "execution_count": null,
   "metadata": {
    "colab": {
     "base_uri": "https://localhost:8080/"
    },
    "id": "wbnjjf0aVNaN",
    "outputId": "23281c0c-f9f4-41d0-b824-3fe0a1b3445c"
   },
   "outputs": [],
   "source": []
  },
  {
   "cell_type": "markdown",
   "metadata": {
    "id": "H6fG71TVVNaN"
   },
   "source": [
    "**c) What is the probability that the bottle content is below 1.9 liters or above 2.1 liters?**"
   ]
  },
  {
   "cell_type": "code",
   "execution_count": null,
   "metadata": {
    "colab": {
     "base_uri": "https://localhost:8080/"
    },
    "id": "1Z6O0xxHVNaO",
    "outputId": "bdd5a29e-a423-4c8d-a0dc-ce46d24e37b6"
   },
   "outputs": [],
   "source": []
  },
  {
   "cell_type": "markdown",
   "metadata": {
    "id": "Qc1CMY6PVNaO"
   },
   "source": [
    "**d) 99% of the bottles contain at least what amount of soft drink in them?**"
   ]
  },
  {
   "cell_type": "code",
   "execution_count": null,
   "metadata": {
    "colab": {
     "base_uri": "https://localhost:8080/"
    },
    "id": "vhoVgTxBVNaO",
    "outputId": "19fe901b-e6aa-46a8-f5a5-7f65e08402a6"
   },
   "outputs": [],
   "source": []
  },
  {
   "cell_type": "markdown",
   "metadata": {
    "id": "cfuKFTnCDTeA"
   },
   "source": [
    "## **Sampling Distribution**"
   ]
  },
  {
   "cell_type": "markdown",
   "metadata": {
    "id": "azEQu4DoC_Q5"
   },
   "source": [
    "### **Q8. Suppose an automobile battery manufacturer claims that the mean lifetime of their battery is 60 months with a standard deviation of 6 months. Suppose the distribution of battery life is approximately normal. Find the probability that the mean lifetime of 40 randomly sampled batteries will be less than 58 months.**"
   ]
  },
  {
   "cell_type": "code",
   "execution_count": null,
   "metadata": {
    "colab": {
     "base_uri": "https://localhost:8080/"
    },
    "id": "AiWFb0LCC9Wp",
    "outputId": "6d0dd09c-a184-4aac-daba-8fd1f2ec4d3d"
   },
   "outputs": [],
   "source": []
  },
  {
   "cell_type": "markdown",
   "metadata": {
    "id": "1TFwIVHqBR8O"
   },
   "source": [
    "## **Interval Estimation**"
   ]
  },
  {
   "cell_type": "markdown",
   "metadata": {
    "id": "hyfZcgYs_LMD"
   },
   "source": [
    "### **Q9. A random sample of 40 households was selected as part of a study on electricity usage, and the number of kilowatt-hours (kWh) was recorded for each household in the sample for the first quarter of 2022. The average usage was found to be 310 kWh. In a very large study in the first quarter of the previous year, it was found that the standard deviation of the usage was 89 kWh.**\n",
    "\n",
    "### **Assuming the standard deviation is unchanged and that the usage is normally distributed, provide an expression for calculating the 95% confidence interval for the mean usage in the first quarter of 2022.**"
   ]
  },
  {
   "cell_type": "code",
   "execution_count": null,
   "metadata": {
    "colab": {
     "base_uri": "https://localhost:8080/"
    },
    "id": "uyAHorce_KaM",
    "outputId": "a17aca72-2c15-42a8-993f-88393ea59489"
   },
   "outputs": [],
   "source": []
  },
  {
   "cell_type": "markdown",
   "metadata": {},
   "source": [
    "## **Hypothesis Testing**"
   ]
  },
  {
   "cell_type": "markdown",
   "metadata": {},
   "source": [
    "### **Q10. You are the manager of a Chinese restaurant. You want to determine whether the waiting time to place an order has changed in the past month from its previous population mean value of 4.5 minutes. State the null and alternative hypothesis.**"
   ]
  },
  {
   "cell_type": "code",
   "execution_count": null,
   "metadata": {},
   "outputs": [],
   "source": []
  },
  {
   "cell_type": "markdown",
   "metadata": {},
   "source": [
    "### **Q11. Find the p-value of a two-tailed hypothesis test if the Z-stat = +2.00?**"
   ]
  },
  {
   "cell_type": "code",
   "execution_count": null,
   "metadata": {},
   "outputs": [],
   "source": []
  }
 ],
 "metadata": {
  "colab": {
   "collapsed_sections": [
    "g7pg-lWiVNZx",
    "l46Ul-hMd7DD"
   ],
   "name": "Practice_exercise -1 (1).ipynb",
   "provenance": []
  },
  "kernelspec": {
   "display_name": "Python 3 (ipykernel)",
   "language": "python",
   "name": "python3"
  },
  "language_info": {
   "codemirror_mode": {
    "name": "ipython",
    "version": 3
   },
   "file_extension": ".py",
   "mimetype": "text/x-python",
   "name": "python",
   "nbconvert_exporter": "python",
   "pygments_lexer": "ipython3",
   "version": "3.9.7"
  }
 },
 "nbformat": 4,
 "nbformat_minor": 1
}
