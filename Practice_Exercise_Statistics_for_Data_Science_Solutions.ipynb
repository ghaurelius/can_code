{
 "cells": [
  {
   "cell_type": "markdown",
   "metadata": {
    "id": "XeV1U7GkVNZY"
   },
   "source": [
    "## **Importing the necessary libraries**"
   ]
  },
  {
   "cell_type": "code",
   "execution_count": 1,
   "metadata": {
    "id": "219CEYUFVNZn"
   },
   "outputs": [],
   "source": [
    "# Library used for data manipulation and analysis\n",
    "import pandas as pd\n",
    "\n",
    "# Library used for working with arrays\n",
    "import numpy as np  \n",
    "\n",
    "# Libraries for visualization\n",
    "import matplotlib.pyplot as plt  \n",
    "%matplotlib inline\n",
    "\n",
    "import seaborn as sns  \n",
    "\n",
    "# This library contains a large number of probability distributions as well as a growing library of statistical functions\n",
    "import scipy.stats as stats"
   ]
  },
  {
   "cell_type": "markdown",
   "metadata": {
    "id": "zwbR4fdpVNZp"
   },
   "source": [
    "## **Binomial Distribution**"
   ]
  },
  {
   "cell_type": "markdown",
   "metadata": {
    "id": "iLvUFh_6VNZp"
   },
   "source": [
    "### **Q1. A LED bulb manufacturing company regularly conducts quality checks at specified periods on the products it manufactures. Historically, the failure rate for LED light bulbs, that the company manufactures is 5%. Suppose a random sample of 10 LED light bulbs is selected. Find the probability distribution for the defective bulbs and answer the following questions.**"
   ]
  },
  {
   "cell_type": "code",
   "execution_count": 2,
   "metadata": {
    "id": "Pnp7Np_VVNZp"
   },
   "outputs": [],
   "source": [
    "p   =  0.05 # Failure rate for LED light bulbs that the company manufactures is 5%\n",
    "\n",
    "n   =  10 # Sample size\n",
    "\n",
    "k   =  np.arange(0, 11) # An array of different possible number of defective bulbs"
   ]
  },
  {
   "cell_type": "code",
   "execution_count": 3,
   "metadata": {
    "id": "7tAFDju8VNZq"
   },
   "outputs": [],
   "source": [
    "binomial = stats.binom.pmf(k, n, p)"
   ]
  },
  {
   "cell_type": "code",
   "execution_count": 4,
   "metadata": {
    "colab": {
     "base_uri": "https://localhost:8080/"
    },
    "id": "D3FonjHuVNZq",
    "outputId": "f21b8862-d653-4d28-b37c-20e9de4f5e83"
   },
   "outputs": [
    {
     "name": "stdout",
     "output_type": "stream",
     "text": [
      "[5.98736939e-01 3.15124705e-01 7.46347985e-02 1.04750594e-02\n",
      " 9.64808106e-04 6.09352488e-05 2.67259863e-06 8.03789062e-08\n",
      " 1.58642578e-09 1.85546875e-11 9.76562500e-14]\n"
     ]
    }
   ],
   "source": [
    "print(binomial)"
   ]
  },
  {
   "cell_type": "markdown",
   "metadata": {
    "id": "So2fXK6AZ-Xs"
   },
   "source": [
    "**Plotting the binomial distribution**"
   ]
  },
  {
   "cell_type": "code",
   "execution_count": 5,
   "metadata": {
    "colab": {
     "base_uri": "https://localhost:8080/",
     "height": 297
    },
    "id": "EucEco3yZx0y",
    "outputId": "b00545a9-433f-41a5-cf75-107887eff0e8"
   },
   "outputs": [
    {
     "data": {
      "image/png": "[encoded data removed]",
      "text/plain": [
       "<Figure size 432x288 with 1 Axes>"
      ]
     },
     "metadata": {
      "needs_background": "light"
     },
     "output_type": "display_data"
    }
   ],
   "source": [
    "# Plot the distribution\n",
    "plt.bar(k, binomial)\n",
    "\n",
    "plt.title('Binomial: n = %i , p = %.2f' % (n, p), fontsize = 15)\n",
    "\n",
    "plt.xlabel('Number of Successes')\n",
    "\n",
    "plt.ylabel('Probability of Successes')\n",
    "\n",
    "plt.show()"
   ]
  },
  {
   "cell_type": "markdown",
   "metadata": {
    "id": "U8C34C7HVNZr"
   },
   "source": [
    "**a) What is the probability that none of the LED bulbs are defective?**"
   ]
  },
  {
   "cell_type": "code",
   "execution_count": 6,
   "metadata": {
    "colab": {
     "base_uri": "https://localhost:8080/"
    },
    "id": "DYBa2d2kVNZs",
    "outputId": "d96b3b97-cf0c-413f-d99b-f169f4992202"
   },
   "outputs": [
    {
     "name": "stdout",
     "output_type": "stream",
     "text": [
      "The probability that none of the LED bulbs are defective is 0.5987\n"
     ]
    }
   ],
   "source": [
    "print('The probability that none of the LED bulbs are defective is %1.4f' % binomial[0])"
   ]
  },
  {
   "cell_type": "markdown",
   "metadata": {
    "id": "siKk2kFfVNZs"
   },
   "source": [
    "**b) What is the probability that exactly one LED bulb is defective?**"
   ]
  },
  {
   "cell_type": "code",
   "execution_count": 7,
   "metadata": {
    "colab": {
     "base_uri": "https://localhost:8080/"
    },
    "id": "JvlpPRafVNZt",
    "outputId": "82865149-c0c5-4ad7-bf33-243dc8b09041"
   },
   "outputs": [
    {
     "name": "stdout",
     "output_type": "stream",
     "text": [
      "The probability that exactly one LED bulb is defective is 0.3151\n"
     ]
    }
   ],
   "source": [
    "print('The probability that exactly one LED bulb is defective is %1.4f' % binomial[1])"
   ]
  },
  {
   "cell_type": "markdown",
   "metadata": {
    "id": "sTKTp_VbVNZt"
   },
   "source": [
    "**c) What is the probability that two or fewer LED bulbs are defective?**"
   ]
  },
  {
   "cell_type": "markdown",
   "metadata": {
    "id": "_ETr7cSsVNZu"
   },
   "source": [
    "**Hint:** We need to calculate the cumulative probability of two or fewer LED bulbs being defective."
   ]
  },
  {
   "cell_type": "code",
   "execution_count": 8,
   "metadata": {
    "id": "4j7cFmgqVNZu"
   },
   "outputs": [],
   "source": [
    "cumulative_binomial = stats.binom.cdf(k, n, p)"
   ]
  },
  {
   "cell_type": "code",
   "execution_count": 9,
   "metadata": {
    "colab": {
     "base_uri": "https://localhost:8080/"
    },
    "id": "ohej5x5tVNZv",
    "outputId": "25510879-1185-48f6-d11d-4f90d7d39b32"
   },
   "outputs": [
    {
     "name": "stdout",
     "output_type": "stream",
     "text": [
      "The probability that two or fewer LED bulbs are defective is 0.9885\n"
     ]
    }
   ],
   "source": [
    "print('The probability that two or fewer LED bulbs are defective is %1.4f' % cumulative_binomial[2])"
   ]
  },
  {
   "cell_type": "markdown",
   "metadata": {
    "id": "6D3d7vgNVNZv"
   },
   "source": [
    "**d) What is the probability that three or more LED bulbs are defective?**"
   ]
  },
  {
   "cell_type": "markdown",
   "metadata": {
    "id": "-EnDIeiTVNZv"
   },
   "source": [
    "**Hint:** We need to subtract the cumulative probability of up to 2 defective LED bulbs from 1."
   ]
  },
  {
   "cell_type": "code",
   "execution_count": 10,
   "metadata": {
    "colab": {
     "base_uri": "https://localhost:8080/"
    },
    "id": "mvuUJchzVNZw",
    "outputId": "6eb39eb3-0aa2-4af7-a8ad-ab4719f925d9"
   },
   "outputs": [
    {
     "name": "stdout",
     "output_type": "stream",
     "text": [
      "The probability that three or more LED bulbs are defective is 0.0115\n"
     ]
    }
   ],
   "source": [
    "P = 1 - cumulative_binomial[2]\n",
    "\n",
    "print('The probability that three or more LED bulbs are defective is %1.4f' % P)"
   ]
  },
  {
   "cell_type": "markdown",
   "metadata": {
    "id": "g7pg-lWiVNZx"
   },
   "source": [
    "### **Q2. During an NBA game, a basketball player has two foul shots (free throw) and the conversion rate of foul shots is 93%. Find the following probabilities.**"
   ]
  },
  {
   "cell_type": "code",
   "execution_count": 11,
   "metadata": {
    "id": "lxT7-cFZVNZx"
   },
   "outputs": [],
   "source": [
    "success = 0.93"
   ]
  },
  {
   "cell_type": "markdown",
   "metadata": {
    "id": "I1yejxesVNZx"
   },
   "source": [
    "**a) What is the probability that the player will convert both the shots?**"
   ]
  },
  {
   "cell_type": "code",
   "execution_count": 12,
   "metadata": {
    "colab": {
     "base_uri": "https://localhost:8080/"
    },
    "id": "SmwMFMOwVNZx",
    "outputId": "3ef552e8-2b2a-4bb7-da18-e9c00bbcbfc5"
   },
   "outputs": [
    {
     "name": "stdout",
     "output_type": "stream",
     "text": [
      "The probability that the player will convert both the shots is 0.8649\n"
     ]
    }
   ],
   "source": [
    "print('The probability that the player will convert both the shots is', round(stats.binom.pmf(2, 2, 0.93), 4))"
   ]
  },
  {
   "cell_type": "markdown",
   "metadata": {
    "id": "0R1FriOVVNZy"
   },
   "source": [
    "**b) What is the probability that the player will convert at least one shot?**"
   ]
  },
  {
   "cell_type": "code",
   "execution_count": 13,
   "metadata": {
    "colab": {
     "base_uri": "https://localhost:8080/"
    },
    "id": "LHvHcZIZVNZy",
    "outputId": "a07246a6-7cfa-4192-9814-2cf9f5793de3"
   },
   "outputs": [
    {
     "name": "stdout",
     "output_type": "stream",
     "text": [
      "The probability that the player will convert at least one shot is 0.9951\n"
     ]
    }
   ],
   "source": [
    "print('The probability that the player will convert at least one shot is', round((1 - stats.binom.cdf(0, 2, 0.93)), 4))"
   ]
  },
  {
   "cell_type": "markdown",
   "metadata": {
    "id": "jeGWrHJhabri"
   },
   "source": [
    "### **Q3. Over a long period in a large multinomial corporation, 10% of all sales trainees are rated as outstanding, 75% are rated as excellent, 10% are rated as satisfactory, and 5% are rated as unsatisfactory. Find the following probabilities for a sample of 10 trainees selected at random.**"
   ]
  },
  {
   "cell_type": "markdown",
   "metadata": {
    "id": "f0-NPUBiVNaG"
   },
   "source": [
    "**a) Two are rated as outstanding**"
   ]
  },
  {
   "cell_type": "code",
   "execution_count": 14,
   "metadata": {
    "id": "nJhIbOHmabrl",
    "outputId": "32c1e229-fe87-4702-f764-d2133622b0a1"
   },
   "outputs": [
    {
     "name": "stdout",
     "output_type": "stream",
     "text": [
      "Probability that two trainees are rated as outstanding is 0.19371\n"
     ]
    }
   ],
   "source": [
    "p = 0.1\n",
    "\n",
    "n = 10\n",
    "\n",
    "k = 2\n",
    "\n",
    "binomial = stats.binom.pmf(k, n, p)\n",
    "\n",
    "print('Probability that two trainees are rated as outstanding is %1.5f' % binomial )"
   ]
  },
  {
   "cell_type": "markdown",
   "metadata": {
    "id": "RZCEMFSrVNaG"
   },
   "source": [
    "**b) Two or more are rated as outstanding**"
   ]
  },
  {
   "cell_type": "code",
   "execution_count": 15,
   "metadata": {
    "id": "KxHPMtooabrw",
    "outputId": "d1905403-3b31-4912-d72f-2b45519ba155"
   },
   "outputs": [
    {
     "name": "stdout",
     "output_type": "stream",
     "text": [
      "Probability that two or more trainees are rated as outstanding is 0.26390\n"
     ]
    }
   ],
   "source": [
    "p = 0.1\n",
    "\n",
    "n = 10\n",
    "\n",
    "k = 1\n",
    "\n",
    "# To answer this, we need to calculate the cumulative probability  \n",
    "binomial = stats.binom.cdf(k, n, p)\n",
    "\n",
    "# Since we have calculated the cumulative probability for 1 or less, we will subtract this prob from 1 for two or more\n",
    "print('Probability that two or more trainees are rated as outstanding is %1.5f' % (1 - binomial))"
   ]
  },
  {
   "cell_type": "markdown",
   "metadata": {
    "id": "u5_21Ab8VNaH"
   },
   "source": [
    "**c) Eight of the ten are rated either outstanding or excellent**"
   ]
  },
  {
   "cell_type": "code",
   "execution_count": 16,
   "metadata": {
    "id": "hUf08sVQabr3",
    "outputId": "04cac182-33f8-42b0-f9c4-eb5bc342cff5"
   },
   "outputs": [
    {
     "name": "stdout",
     "output_type": "stream",
     "text": [
      "Probability that eight out of ten trainees are rated either excellent or outstanding is 0.27590\n"
     ]
    }
   ],
   "source": [
    "# Probability of excellent or outstanding is 0.75 + 0.10\n",
    "\n",
    "p = 0.85\n",
    "\n",
    "n = 10\n",
    "\n",
    "k = 8\n",
    "\n",
    "binomial = stats.binom.pmf(k, n, p)\n",
    "\n",
    "print('Probability that eight out of ten trainees are rated either excellent or outstanding is %1.5f' % binomial)"
   ]
  },
  {
   "cell_type": "markdown",
   "metadata": {
    "id": "by_BuepFVNaH"
   },
   "source": [
    "**d) None of the trainees are rated as unsatisfactory**"
   ]
  },
  {
   "cell_type": "code",
   "execution_count": 17,
   "metadata": {
    "id": "RHtn4WYzabsA",
    "outputId": "e9aa51f1-1a69-44a0-8895-b05c12f4b2b7"
   },
   "outputs": [
    {
     "name": "stdout",
     "output_type": "stream",
     "text": [
      "Probability that no trainees are rated as unsatisfactory is 0.59874\n"
     ]
    }
   ],
   "source": [
    "p = 0.05\n",
    "\n",
    "n = 10\n",
    "\n",
    "k = 0\n",
    "\n",
    "binomial = stats.binom.pmf(k, n, p)\n",
    "\n",
    "print('Probability that no trainees are rated as unsatisfactory is %1.5f' % binomial )"
   ]
  },
  {
   "cell_type": "markdown",
   "metadata": {},
   "source": [
    "## **Uniform Distribution**"
   ]
  },
  {
   "cell_type": "markdown",
   "metadata": {
    "id": "1-lP_U28aUuP"
   },
   "source": [
    "### **Q4. A university records the time taken by students to solve the statistics assignment in 'assignment.csv’. Plot the probability distribution this data follows and answer the following questions.**"
   ]
  },
  {
   "cell_type": "markdown",
   "metadata": {
    "id": "l46Ul-hMd7DD"
   },
   "source": [
    "### **Loading the dataset**"
   ]
  },
  {
   "cell_type": "code",
   "execution_count": 18,
   "metadata": {
    "colab": {
     "base_uri": "https://localhost:8080/",
     "height": 204
    },
    "id": "C1zqTRCLd6BQ",
    "outputId": "266bf3e5-3adf-4b1c-a5e4-3d1311bc6750"
   },
   "outputs": [
    {
     "data": {
      "text/html": [
       "<div>\n",
       "<style scoped>\n",
       "    .dataframe tbody tr th:only-of-type {\n",
       "        vertical-align: middle;\n",
       "    }\n",
       "\n",
       "    .dataframe tbody tr th {\n",
       "        vertical-align: top;\n",
       "    }\n",
       "\n",
       "    .dataframe thead th {\n",
       "        text-align: right;\n",
       "    }\n",
       "</style>\n",
       "<table border=\"1\" class=\"dataframe\">\n",
       "  <thead>\n",
       "    <tr style=\"text-align: right;\">\n",
       "      <th></th>\n",
       "      <th>Student_ID</th>\n",
       "      <th>Time_taken</th>\n",
       "    </tr>\n",
       "  </thead>\n",
       "  <tbody>\n",
       "    <tr>\n",
       "      <th>0</th>\n",
       "      <td>955</td>\n",
       "      <td>2.79</td>\n",
       "    </tr>\n",
       "    <tr>\n",
       "      <th>1</th>\n",
       "      <td>379</td>\n",
       "      <td>3.32</td>\n",
       "    </tr>\n",
       "    <tr>\n",
       "      <th>2</th>\n",
       "      <td>922</td>\n",
       "      <td>1.35</td>\n",
       "    </tr>\n",
       "    <tr>\n",
       "      <th>3</th>\n",
       "      <td>312</td>\n",
       "      <td>2.35</td>\n",
       "    </tr>\n",
       "    <tr>\n",
       "      <th>4</th>\n",
       "      <td>670</td>\n",
       "      <td>1.98</td>\n",
       "    </tr>\n",
       "  </tbody>\n",
       "</table>\n",
       "</div>"
      ],
      "text/plain": [
       "   Student_ID  Time_taken\n",
       "0         955        2.79\n",
       "1         379        3.32\n",
       "2         922        1.35\n",
       "3         312        2.35\n",
       "4         670        1.98"
      ]
     },
     "execution_count": 18,
     "metadata": {},
     "output_type": "execute_result"
    }
   ],
   "source": [
    "assignment = pd.read_csv('assignment.csv')\n",
    "\n",
    "assignment.head()"
   ]
  },
  {
   "cell_type": "markdown",
   "metadata": {
    "id": "UOGOuJgoeZ7X"
   },
   "source": [
    "Let's plot the histogram of the data along with the PDF of uniform distribution using the parameters - minimum time required and maximum time required for completing the assignment."
   ]
  },
  {
   "cell_type": "code",
   "execution_count": 19,
   "metadata": {
    "colab": {
     "base_uri": "https://localhost:8080/",
     "height": 295
    },
    "id": "vtJZKDfReeL_",
    "outputId": "ad59930a-527f-48b2-9080-19c6c792f581"
   },
   "outputs": [
    {
     "data": {
      "image/png": "[encoded data removed]",
      "text/plain": [
       "<Figure size 432x288 with 1 Axes>"
      ]
     },
     "metadata": {
      "needs_background": "light"
     },
     "output_type": "display_data"
    }
   ],
   "source": [
    "# Visualize the distribution of the time needed for completing the assignment\n",
    "plt.hist(assignment['Time_taken'], density = True)\n",
    "\n",
    "plt.axhline(1 / 3, color = 'red')\n",
    "\n",
    "plt.xlabel('Time required for completing the assignment')\n",
    "\n",
    "plt.ylabel('Probability')\n",
    "\n",
    "plt.title('Data Distribution')\n",
    "\n",
    "plt.show()"
   ]
  },
  {
   "cell_type": "markdown",
   "metadata": {
    "id": "NYP6WplCju7J"
   },
   "source": [
    "**Insight**: The above plot shows that all the values between 1 and 4 have almost equal probability. We are going to use continuous uniform distribution. We need to decide the endpoints. Here, the endpoints are 1 and 4.\n",
    "\n",
    "X ~ U(1, 4)"
   ]
  },
  {
   "cell_type": "code",
   "execution_count": 20,
   "metadata": {
    "id": "08xUp223kAeo"
   },
   "outputs": [],
   "source": [
    "# Import the required function\n",
    "from scipy.stats import uniform\n",
    "\n",
    "# Use the uniform.pdf() function to generate the probability distribution\n",
    "x = np.linspace(1, 4, 50)\n",
    "\n",
    "probs = uniform.pdf(x, loc = 1, scale = 3)"
   ]
  },
  {
   "cell_type": "markdown",
   "metadata": {
    "id": "riMH9942kyzJ"
   },
   "source": [
    "**a) Find the probability that a randomly selected student requires at most 2.5 hours to complete the assignment.**"
   ]
  },
  {
   "cell_type": "markdown",
   "metadata": {},
   "source": [
    "**CDF** of a random variable (X) is the probability that X will take the value less than or equal to x. Mathematically, it can be represented as:\n",
    "\n",
    ">$F_X(x) = P(X\\leq x)$\n",
    "\n",
    "In our case, the random variable (X) is the number of hours.\n",
    "\n",
    "$ P(X\\leq 2.5)$"
   ]
  },
  {
   "cell_type": "code",
   "execution_count": 21,
   "metadata": {
    "colab": {
     "base_uri": "https://localhost:8080/"
    },
    "id": "j6Q_wOlPlh5g",
    "outputId": "82c79ea7-ca72-4ea4-c7ad-489a2dd91760"
   },
   "outputs": [
    {
     "data": {
      "text/plain": [
       "0.5"
      ]
     },
     "execution_count": 21,
     "metadata": {},
     "output_type": "execute_result"
    }
   ],
   "source": [
    "uniform.cdf(x = 2.5, loc = 1, scale = 3)"
   ]
  },
  {
   "cell_type": "markdown",
   "metadata": {
    "id": "C3TVqrPQlt1h"
   },
   "source": [
    "**b) Find the probability that a randomly selected student requires at least 3 hours to complete the quiz.**\n",
    "\n",
    "$ P(X >= 3)$"
   ]
  },
  {
   "cell_type": "code",
   "execution_count": 22,
   "metadata": {
    "colab": {
     "base_uri": "https://localhost:8080/"
    },
    "id": "qy9TT_38l108",
    "outputId": "20724781-bd1f-48e3-fdcb-26eb1fc7597f"
   },
   "outputs": [
    {
     "data": {
      "text/plain": [
       "0.3333"
      ]
     },
     "execution_count": 22,
     "metadata": {},
     "output_type": "execute_result"
    }
   ],
   "source": [
    "round(1 - uniform.cdf(x = 3, loc = 1, scale = 3), 4)"
   ]
  },
  {
   "cell_type": "markdown",
   "metadata": {
    "id": "ln66mUUsmad-"
   },
   "source": [
    "**c) Find the probability that a randomly selected student requires 1.5 to 3.5 hours to complete the quiz.**\n",
    "\n",
    "$ P(1.5 <= X <= 3.5)$"
   ]
  },
  {
   "cell_type": "code",
   "execution_count": 23,
   "metadata": {
    "colab": {
     "base_uri": "https://localhost:8080/"
    },
    "id": "oVS-Q3f3mZlj",
    "outputId": "283b341b-1853-49d8-f3b3-63ac852902ab"
   },
   "outputs": [
    {
     "data": {
      "text/plain": [
       "0.6667"
      ]
     },
     "execution_count": 23,
     "metadata": {},
     "output_type": "execute_result"
    }
   ],
   "source": [
    "round(uniform.cdf(x = 3.5, loc = 1, scale = 3) - uniform.cdf(x = 1.5, loc = 1, scale = 3), 4) "
   ]
  },
  {
   "cell_type": "markdown",
   "metadata": {
    "id": "xh7vsKOHVNZ8"
   },
   "source": [
    "## **Normal Distribution**"
   ]
  },
  {
   "cell_type": "markdown",
   "metadata": {
    "id": "yRiWnS4VabsT"
   },
   "source": [
    "### **Q5. According to the Telecommunication Industry, the average monthly cell phone bill is Rs. 850, with a standard deviation of Rs. 150. Assuming that the monthly bill follows a normal distribution, answer the following questions.**"
   ]
  },
  {
   "cell_type": "markdown",
   "metadata": {
    "id": "MJ7wKYwvVNZ_"
   },
   "source": [
    "**a) What is the probability that a randomly selected cell phone bill is more than Rs. 1200?**"
   ]
  },
  {
   "cell_type": "code",
   "execution_count": 24,
   "metadata": {
    "colab": {
     "base_uri": "https://localhost:8080/"
    },
    "id": "jJ1cXSf0absV",
    "outputId": "78ae5cc4-110d-434f-a021-194964c091fc"
   },
   "outputs": [
    {
     "data": {
      "text/plain": [
       "0.0098"
      ]
     },
     "execution_count": 24,
     "metadata": {},
     "output_type": "execute_result"
    }
   ],
   "source": [
    "# To calculate this, we will calculate the cumulative probability for less than 1200 and then will subtract it from 1\n",
    "\n",
    "round(1 - stats.norm.cdf(1200, loc = 850, scale = 150), 4)"
   ]
  },
  {
   "cell_type": "markdown",
   "metadata": {
    "id": "1eoJzslRVNZ_"
   },
   "source": [
    "**b) What is the probability that a randomly selected cell phone bill is between Rs. 750 and Rs. 1200?**"
   ]
  },
  {
   "cell_type": "code",
   "execution_count": 25,
   "metadata": {
    "colab": {
     "base_uri": "https://localhost:8080/"
    },
    "id": "1uU2mRzbabsh",
    "outputId": "0d94bb46-e479-405e-cd8e-579a8e2709d9"
   },
   "outputs": [
    {
     "data": {
      "text/plain": [
       "0.7377"
      ]
     },
     "execution_count": 25,
     "metadata": {},
     "output_type": "execute_result"
    }
   ],
   "source": [
    "round(stats.norm.cdf(1200, loc = 850, scale = 150) - stats.norm.cdf(750, loc = 850, scale = 150), 4)"
   ]
  },
  {
   "cell_type": "markdown",
   "metadata": {
    "id": "tGxBocT6VNZ_"
   },
   "source": [
    "**c) What is the probability that a randomly selected cell phone bill is no more than Rs. 650?**"
   ]
  },
  {
   "cell_type": "code",
   "execution_count": 26,
   "metadata": {
    "colab": {
     "base_uri": "https://localhost:8080/"
    },
    "id": "TqFcIHcUabsp",
    "outputId": "19b42148-5710-4e7d-a6db-efdc471502e8"
   },
   "outputs": [
    {
     "data": {
      "text/plain": [
       "0.0912"
      ]
     },
     "execution_count": 26,
     "metadata": {},
     "output_type": "execute_result"
    }
   ],
   "source": [
    "round(stats.norm.cdf(650, loc = 850, scale = 150), 4)"
   ]
  },
  {
   "cell_type": "markdown",
   "metadata": {
    "id": "oFmIG_sqVNaA"
   },
   "source": [
    "**d) What is the amount above which lies the top 15% of cell phone bills?**"
   ]
  },
  {
   "cell_type": "markdown",
   "metadata": {},
   "source": [
    "Let the amount be $M$. \n",
    "\n",
    "$P(X ≥ M) = 0.15$\n",
    "\n",
    "$=> 1 – P(X < M) = 0.15$\n",
    "\n",
    "$=> P(X < M) = 0.85$"
   ]
  },
  {
   "cell_type": "code",
   "execution_count": 27,
   "metadata": {
    "colab": {
     "base_uri": "https://localhost:8080/"
    },
    "id": "_r55P6SNabs0",
    "outputId": "2cf77402-788c-435e-fa3a-2e7fc4c4fac8"
   },
   "outputs": [
    {
     "data": {
      "text/plain": [
       "1005.4650084240685"
      ]
     },
     "execution_count": 27,
     "metadata": {},
     "output_type": "execute_result"
    }
   ],
   "source": [
    "# To calculate this, we will use the percent point function, i.e., ppf\n",
    "\n",
    "stats.norm.ppf(0.85, loc = 850, scale = 150)"
   ]
  },
  {
   "cell_type": "markdown",
   "metadata": {
    "id": "_lNAMUvvVNaA"
   },
   "source": [
    "**e) What is the amount below which lies the bottom 25% of cell phone bills?**"
   ]
  },
  {
   "cell_type": "code",
   "execution_count": 28,
   "metadata": {
    "colab": {
     "base_uri": "https://localhost:8080/"
    },
    "id": "-7OQk_Ftabs-",
    "outputId": "c50bc6e1-8ff7-4fe0-d4c0-b6669b3209f9"
   },
   "outputs": [
    {
     "data": {
      "text/plain": [
       "748.8265"
      ]
     },
     "execution_count": 28,
     "metadata": {},
     "output_type": "execute_result"
    }
   ],
   "source": [
    "round(stats.norm.ppf(0.25, loc = 850, scale = 150), 4)"
   ]
  },
  {
   "cell_type": "markdown",
   "metadata": {
    "id": "QmtfulFDVNaH"
   },
   "source": [
    "### **Q6. The mean filling capacity for a Coke bottle is 500 ml with a standard deviation of 20 ml. Assume that it follows a normal distribution and answer the following questions.**"
   ]
  },
  {
   "cell_type": "code",
   "execution_count": 29,
   "metadata": {
    "id": "ySnY5DVYVNaI"
   },
   "outputs": [],
   "source": [
    "mu = 500\n",
    "\n",
    "sigma = 20"
   ]
  },
  {
   "cell_type": "markdown",
   "metadata": {
    "id": "ak4RyMGVVNaI"
   },
   "source": [
    "**a) What is the probability that the bottle filled less than 480 ml of Coke?**"
   ]
  },
  {
   "cell_type": "code",
   "execution_count": 30,
   "metadata": {
    "colab": {
     "base_uri": "https://localhost:8080/"
    },
    "id": "7HZogLBGVNaI",
    "outputId": "6fd2cf8a-2bb5-4119-9143-53eea85edf15"
   },
   "outputs": [
    {
     "name": "stdout",
     "output_type": "stream",
     "text": [
      "The probability of bottle filled less than 480 ml is 0.1587\n"
     ]
    }
   ],
   "source": [
    "x1 = 480\n",
    "\n",
    "z1 = (x1 - mu) / sigma\n",
    "\n",
    "p = stats.norm.cdf(z1)\n",
    "\n",
    "print ('The probability of bottle filled less than 480 ml is %1.4f' % p)"
   ]
  },
  {
   "cell_type": "markdown",
   "metadata": {
    "id": "ILDdv_5fVNaI"
   },
   "source": [
    "**b) What is the probability that the bottle filled more than 520 ml of Coke?**"
   ]
  },
  {
   "cell_type": "code",
   "execution_count": 31,
   "metadata": {
    "colab": {
     "base_uri": "https://localhost:8080/"
    },
    "id": "u42DGuDPVNaJ",
    "outputId": "4208ece9-6c8d-4be4-d37b-3264766f66b8"
   },
   "outputs": [
    {
     "name": "stdout",
     "output_type": "stream",
     "text": [
      "The probability of bottle filled more than 520 ml is 0.1587\n"
     ]
    }
   ],
   "source": [
    "x2 = 520\n",
    "\n",
    "z2 = (x2 - mu) / sigma\n",
    "\n",
    "p1 = 1 - stats.norm.cdf(z2)\n",
    "\n",
    "print ('The probability of bottle filled more than 520 ml is %1.4f' % p1)"
   ]
  },
  {
   "cell_type": "markdown",
   "metadata": {
    "id": "GDGLNR7dVNaJ"
   },
   "source": [
    "**c) What is the probability that the bottle filled between 470 ml to 525 ml of Coke?**"
   ]
  },
  {
   "cell_type": "code",
   "execution_count": 32,
   "metadata": {
    "colab": {
     "base_uri": "https://localhost:8080/"
    },
    "id": "_uPKpbvtVNaK",
    "outputId": "1ae86422-e645-4183-d9a5-7f1097668e0e"
   },
   "outputs": [
    {
     "name": "stdout",
     "output_type": "stream",
     "text": [
      "The probability that the bottle filled between 470 ml to 525 ml is 0.8275\n"
     ]
    }
   ],
   "source": [
    "x3 = 470\n",
    "\n",
    "z3 = (x3 - mu) / sigma\n",
    "\n",
    "x4 = 525\n",
    "\n",
    "z4 = (x4 - mu) / sigma\n",
    "\n",
    "p2 = stats.norm.cdf(z3)\n",
    "\n",
    "p3 = stats.norm.cdf(z4)\n",
    "\n",
    "p4 = p3 - p2\n",
    "\n",
    "print ('The probability that the bottle filled between 470 ml to 525 ml is %1.4f' %p4)"
   ]
  },
  {
   "cell_type": "markdown",
   "metadata": {
    "id": "7WFVLPL-VNaM"
   },
   "source": [
    "### Q7: **In 2-liter soft drink bottles, the drink filled is normally distributed, with a mean of 2.0 liters and a standard deviation of 0.05 liter. If bottles contain less than 95% of the listed net content (1.90 liters), the manufacturer may be subject to a penalty by the state office of consumer affairs. Bottles that have a net quantity above 2.1 liters may cause excess spillage upon opening. Answer the following questions.**"
   ]
  },
  {
   "cell_type": "code",
   "execution_count": 33,
   "metadata": {
    "id": "-1PK8VacVNaM"
   },
   "outputs": [],
   "source": [
    "mu = 2\n",
    "\n",
    "sigma = 0.05"
   ]
  },
  {
   "cell_type": "markdown",
   "metadata": {
    "id": "KJh8EodMVNaM"
   },
   "source": [
    "**a) What is the probability that the bottle content is between 1.9 and 2.0 liters?**"
   ]
  },
  {
   "cell_type": "code",
   "execution_count": 34,
   "metadata": {
    "colab": {
     "base_uri": "https://localhost:8080/"
    },
    "id": "WfcWl231VNaM",
    "outputId": "5b8e470b-4b08-484f-ec17-892dbe4313ed"
   },
   "outputs": [
    {
     "name": "stdout",
     "output_type": "stream",
     "text": [
      "Probability that the bottle content is between 1.9 and 2 liters is 0.4772\n"
     ]
    }
   ],
   "source": [
    "Prob = stats.norm.cdf(2, loc = mu, scale = sigma) - stats.norm.cdf(1.90, loc = mu, scale = sigma)\n",
    "\n",
    "print(\"Probability that the bottle content is between 1.9 and 2 liters is %3.4f\" % Prob)"
   ]
  },
  {
   "cell_type": "markdown",
   "metadata": {
    "id": "hZhrsYtoVNaN"
   },
   "source": [
    "**b) What is the probability that the bottle content is between 1.9 and 2.1 liters?**"
   ]
  },
  {
   "cell_type": "code",
   "execution_count": 35,
   "metadata": {
    "colab": {
     "base_uri": "https://localhost:8080/"
    },
    "id": "wbnjjf0aVNaN",
    "outputId": "23281c0c-f9f4-41d0-b824-3fe0a1b3445c"
   },
   "outputs": [
    {
     "name": "stdout",
     "output_type": "stream",
     "text": [
      "Probability that the bottle content is between 1.9 and 2.1 liters is 0.9545\n"
     ]
    }
   ],
   "source": [
    "Prob = stats.norm.cdf(2.1, loc = mu, scale = sigma) - stats.norm.cdf(1.9, loc = mu, scale = sigma)\n",
    "\n",
    "print(\"Probability that the bottle content is between 1.9 and 2.1 liters is %3.4f\" % Prob)"
   ]
  },
  {
   "cell_type": "markdown",
   "metadata": {
    "id": "H6fG71TVVNaN"
   },
   "source": [
    "**c) What is the probability that the bottle content is below 1.9 liters or above 2.1 liters?**"
   ]
  },
  {
   "cell_type": "code",
   "execution_count": 36,
   "metadata": {
    "colab": {
     "base_uri": "https://localhost:8080/"
    },
    "id": "1Z6O0xxHVNaO",
    "outputId": "bdd5a29e-a423-4c8d-a0dc-ce46d24e37b6"
   },
   "outputs": [
    {
     "name": "stdout",
     "output_type": "stream",
     "text": [
      "Probability that the bottle content is below 1.9 liters or above 2.1 liters is 0.0455\n"
     ]
    }
   ],
   "source": [
    "Prob1  =  stats.norm.cdf(1.9, loc = mu, scale = sigma)\n",
    "\n",
    "Prob2  =  1 - stats.norm.cdf(2.1, loc = mu, scale = sigma)\n",
    "\n",
    "print(\"Probability that the bottle content is below 1.9 liters or above 2.1 liters is %3.4f\" % (Prob1 + Prob2))"
   ]
  },
  {
   "cell_type": "markdown",
   "metadata": {
    "id": "Qc1CMY6PVNaO"
   },
   "source": [
    "**d) 99% of the bottles contain at least what amount of soft drink in them?**"
   ]
  },
  {
   "cell_type": "code",
   "execution_count": 37,
   "metadata": {
    "colab": {
     "base_uri": "https://localhost:8080/"
    },
    "id": "vhoVgTxBVNaO",
    "outputId": "19fe901b-e6aa-46a8-f5a5-7f65e08402a6"
   },
   "outputs": [
    {
     "name": "stdout",
     "output_type": "stream",
     "text": [
      "99% of the bottles have at least 1.88 Liters\n"
     ]
    }
   ],
   "source": [
    "Prob = stats.norm.ppf(0.01, loc = mu, scale = sigma)\n",
    "\n",
    "print(\"99% of the bottles have at least\", round(Prob, 2), \"Liters\")"
   ]
  },
  {
   "cell_type": "markdown",
   "metadata": {
    "id": "cfuKFTnCDTeA"
   },
   "source": [
    "## **Sampling Distribution**"
   ]
  },
  {
   "cell_type": "markdown",
   "metadata": {
    "id": "azEQu4DoC_Q5"
   },
   "source": [
    "### **Q8. Suppose an automobile battery manufacturer claims that the mean lifetime of their battery is 60 months with a standard deviation of 6 months. Suppose the distribution of battery life is approximately normal. Find the probability that the mean lifetime of 40 randomly sampled batteries will be less than 58 months.**"
   ]
  },
  {
   "cell_type": "code",
   "execution_count": 38,
   "metadata": {
    "colab": {
     "base_uri": "https://localhost:8080/"
    },
    "id": "AiWFb0LCC9Wp",
    "outputId": "6d0dd09c-a184-4aac-daba-8fd1f2ec4d3d"
   },
   "outputs": [
    {
     "data": {
      "text/plain": [
       "0.0175"
      ]
     },
     "execution_count": 38,
     "metadata": {},
     "output_type": "execute_result"
    }
   ],
   "source": [
    "# Import the required function\n",
    "from scipy.stats import norm\n",
    "\n",
    "# Declare the mean lifetime of battery as mu\n",
    "mu = 60\n",
    "\n",
    "# Declare the standard deviation of battery as sigma\n",
    "sigma = 6\n",
    "\n",
    "# Sample size\n",
    "n = 40\n",
    "\n",
    "# Find the sample standard deviation\n",
    "s = sigma / np.sqrt(40)\n",
    "\n",
    "# Find the probability\n",
    "round(norm.cdf(58, loc = mu, scale = s), 4)"
   ]
  },
  {
   "cell_type": "markdown",
   "metadata": {
    "id": "BSBuNii8HHC0"
   },
   "source": [
    "**Insight:** \n",
    "\n",
    "The probability that the mean lifetime of 40 randomly sampled batteries will be less than 58 months is 1.75%."
   ]
  },
  {
   "cell_type": "markdown",
   "metadata": {
    "id": "1TFwIVHqBR8O"
   },
   "source": [
    "## **Interval Estimation**"
   ]
  },
  {
   "cell_type": "markdown",
   "metadata": {
    "id": "hyfZcgYs_LMD"
   },
   "source": [
    "### **Q9. A random sample of 40 households was selected as part of a study on electricity usage, and the number of kilowatt-hours (kWh) was recorded for each household in the sample for the first quarter of 2022. The average usage was found to be 310 kWh. In a very large study in the first quarter of the previous year, it was found that the standard deviation of the usage was 89 kWh.**\n",
    "\n",
    "### **Assuming the standard deviation is unchanged and that the usage is normally distributed, provide an expression for calculating the 95% confidence interval for the mean usage in the first quarter of 2022.**"
   ]
  },
  {
   "cell_type": "code",
   "execution_count": 39,
   "metadata": {
    "colab": {
     "base_uri": "https://localhost:8080/"
    },
    "id": "uyAHorce_KaM",
    "outputId": "a17aca72-2c15-42a8-993f-88393ea59489"
   },
   "outputs": [
    {
     "data": {
      "text/plain": [
       "array([282.42, 337.58])"
      ]
     },
     "execution_count": 39,
     "metadata": {},
     "output_type": "execute_result"
    }
   ],
   "source": [
    "# Import the required function\n",
    "from scipy.stats import norm\n",
    "\n",
    "import numpy as np\n",
    "\n",
    "# Set the values of sample mean and sigma\n",
    "x_bar, sigma = 310, 89\n",
    "\n",
    "# Set the value of sample size\n",
    "n = 40\n",
    "\n",
    "# Construct the confidence interval\n",
    "np.round(norm.interval(0.95, loc = x_bar, scale = sigma / np.sqrt(n)), 2)"
   ]
  },
  {
   "cell_type": "markdown",
   "metadata": {
    "id": "F1JpYY7JGGYY"
   },
   "source": [
    "**Insight:** \n",
    " \n",
    " 95% of the time, the mean usage in the first quarter of 2022 will be in between 282.42 and 337.58 kWh."
   ]
  },
  {
   "cell_type": "markdown",
   "metadata": {},
   "source": [
    "## **Hypothesis Testing**"
   ]
  },
  {
   "cell_type": "markdown",
   "metadata": {},
   "source": [
    "### **Q10. You are the manager of a Chinese restaurant. You want to determine whether the waiting time to place an order has changed in the past month from its previous population mean value of 4.5 minutes. State the null and alternative hypothesis.**"
   ]
  },
  {
   "cell_type": "markdown",
   "metadata": {},
   "source": [
    "The null hypothesis is that the population mean has not changed from its previous value of 4.5 minutes. This is denoted \n",
    "as:\n",
    "\n",
    "$H_0: µ = 4.5$\n",
    "\n",
    "The alternative hypothesis is the opposite of the null hypothesis. Because the null hypothesis is that the population\n",
    "mean is 4.5 minutes, the alternative hypothesis is that the population mean is not 4.5 minutes. This is denoted as:\n",
    "\n",
    "$H_1: µ \\neq 4.5$"
   ]
  },
  {
   "cell_type": "markdown",
   "metadata": {},
   "source": [
    "### **Q11. Find the p-value of a two-tailed hypothesis test if the Z-stat = +2.00?**"
   ]
  },
  {
   "cell_type": "code",
   "execution_count": 40,
   "metadata": {},
   "outputs": [
    {
     "data": {
      "text/plain": [
       "0.02275013194817921"
      ]
     },
     "execution_count": 40,
     "metadata": {},
     "output_type": "execute_result"
    }
   ],
   "source": [
    "# Calculating the p-value for Z-stat = 2\n",
    "p_val = 1 - stats.norm.cdf(2)\n",
    "\n",
    "p_val"
   ]
  },
  {
   "cell_type": "code",
   "execution_count": 41,
   "metadata": {},
   "outputs": [
    {
     "name": "stdout",
     "output_type": "stream",
     "text": [
      "This is a two-tailed test. So, the p_value is twice the p-value for the one-tailed test i.e., 0.0455\n"
     ]
    }
   ],
   "source": [
    "print(\"This is a two-tailed test. So, the p_value is twice the p-value for the one-tailed test, i.e., %1.4f\" %(p_val * 2))"
   ]
  }
 ],
 "metadata": {
  "colab": {
   "collapsed_sections": [
    "g7pg-lWiVNZx",
    "l46Ul-hMd7DD"
   ],
   "name": "Practice_exercise -1 (1).ipynb",
   "provenance": []
  },
  "kernelspec": {
   "display_name": "Python 3 (ipykernel)",
   "language": "python",
   "name": "python3"
  },
  "language_info": {
   "codemirror_mode": {
    "name": "ipython",
    "version": 3
   },
   "file_extension": ".py",
   "mimetype": "text/x-python",
   "name": "python",
   "nbconvert_exporter": "python",
   "pygments_lexer": "ipython3",
   "version": "3.9.7"
  }
 },
 "nbformat": 4,
 "nbformat_minor": 1
}
